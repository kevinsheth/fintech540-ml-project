{
 "cells": [
  {
   "cell_type": "markdown",
   "id": "28d30d66-385a-4c05-8976-351beb7b9c79",
   "metadata": {},
   "source": [
    "# Imports"
   ]
  },
  {
   "cell_type": "code",
   "execution_count": 242,
   "id": "3d74f0d4-ecc5-420e-b492-fb2a9b73fe27",
   "metadata": {},
   "outputs": [],
   "source": [
    "import pandas as pd\n",
    "from sklearn.experimental import enable_halving_search_cv # noqa\n",
    "from sklearn.model_selection import train_test_split,GridSearchCV, HalvingGridSearchCV, ParameterGrid\n",
    "\n",
    "from sklearn.dummy import DummyClassifier\n",
    "from sklearn.ensemble import RandomForestClassifier\n",
    "\n",
    "from sklearn.metrics import (\n",
    "    mean_squared_error,\n",
    "    RocCurveDisplay,\n",
    "    make_scorer,\n",
    "    r2_score\n",
    ")\n",
    "from sklearn import preprocessing\n",
    "\n",
    "import matplotlib.pyplot as plt\n",
    "import xgboost as xg\n",
    "import numpy as np"
   ]
  },
  {
   "cell_type": "markdown",
   "id": "e6fd4bf0-0d98-41d6-a0c3-66120321cb04",
   "metadata": {},
   "source": [
    "# Helpers"
   ]
  },
  {
   "cell_type": "code",
   "execution_count": 243,
   "id": "a4c09db6-2bce-4f61-ab0f-eeb64cd5c60c",
   "metadata": {},
   "outputs": [],
   "source": [
    "def rmse(y_true, y_pred):\n",
    "    return np.sqrt(mean_squared_error(y_true, y_pred))"
   ]
  },
  {
   "cell_type": "markdown",
   "id": "b9015f8d-6a26-4797-85e7-6242798431ae",
   "metadata": {},
   "source": [
    "# Preprocessing"
   ]
  },
  {
   "cell_type": "code",
   "execution_count": 244,
   "id": "549fb0b8-029d-403f-b40a-aabb47b21d2e",
   "metadata": {},
   "outputs": [],
   "source": [
    "sector_return = pd.read_csv('s3://fintech540-ml/staging/transform/SECTOR_30T.csv')"
   ]
  },
  {
   "cell_type": "code",
   "execution_count": 245,
   "id": "c5e40da3-4e1c-4e3f-ab7e-c188eb22c898",
   "metadata": {},
   "outputs": [],
   "source": [
    "gas = pd.read_csv('s3://fintech540-ml/external/weekly-gasoline.csv')\n",
    "gas.columns = ['gas_' + x.lower().replace(' ', '_') for x in gas.columns]"
   ]
  },
  {
   "cell_type": "code",
   "execution_count": 246,
   "id": "a60c77c4-e1d4-41a1-983e-0c49dd35feb3",
   "metadata": {},
   "outputs": [
    {
     "name": "stderr",
     "output_type": "stream",
     "text": [
      "/var/folders/yn/44g9c8092hs_wb4_5rjgbb300000gn/T/ipykernel_50982/2754285845.py:1: UserWarning: Could not infer format, so each element will be parsed individually, falling back to `dateutil`. To ensure parsing is consistent and as-expected, please specify a format.\n",
      "  sector_return['ts'] = pd.to_datetime(sector_return['Date'] + ' ' + sector_return['Time-Interval'])\n"
     ]
    }
   ],
   "source": [
    "sector_return['ts'] = pd.to_datetime(sector_return['Date'] + ' ' + sector_return['Time-Interval'])\n",
    "sector_return['week'] = sector_return['ts'].dt.isocalendar().week\n",
    "sector_return['year'] = sector_return['ts'].dt.year\n",
    "\n",
    "sector_return = sector_return.drop(['Date', 'Time-Interval', 'ts'], axis=1)"
   ]
  },
  {
   "cell_type": "code",
   "execution_count": 247,
   "id": "fbb6b1b8-3fc8-4f5b-93e9-d29533945491",
   "metadata": {},
   "outputs": [],
   "source": [
    "merged_df = (pd.merge(sector_return, gas, left_on=['week', 'year'], right_on=['gas_fiscal_week', 'gas_fiscal_year'])\n",
    "                .drop(['year', 'week', 'gas_fiscal_year', 'gas_fiscal_week'], axis=1))\n",
    "\n",
    "merged_df['gas_difference_from_same_week_last_year'] = pd.to_numeric(merged_df['gas_difference_from_same_week_last_year'].str.replace(',', ''), errors='coerce')\n",
    "merged_df['gas_cumulative_difference'] = pd.to_numeric(merged_df['gas_cumulative_difference'].str.replace(',', ''), errors='coerce')\n",
    "\n",
    "merged_df = merged_df.dropna()"
   ]
  },
  {
   "cell_type": "code",
   "execution_count": 248,
   "id": "b0ba887d-46cc-48bf-89c7-05a347cc1b68",
   "metadata": {},
   "outputs": [],
   "source": [
    "le = preprocessing.LabelEncoder()\n",
    "\n",
    "merged_df['Sector'] = le.fit_transform(merged_df['Sector'])"
   ]
  },
  {
   "cell_type": "markdown",
   "id": "6aef0e9f-18a6-4435-9ab4-0dabd51f6823",
   "metadata": {},
   "source": [
    "# Training"
   ]
  },
  {
   "cell_type": "code",
   "execution_count": 249,
   "id": "c61667f0-f102-4728-bdc2-01bf866dbc63",
   "metadata": {},
   "outputs": [],
   "source": [
    "X_train, X_test, y_train, y_test = train_test_split(\n",
    "    merged_df.drop(columns='Top_Sector'), merged_df['Top_Sector'], stratify=merged_df['Top_Sector'], random_state=42, test_size=.2)"
   ]
  },
  {
   "cell_type": "code",
   "execution_count": null,
   "id": "63145f6b-cf50-49eb-860b-24811e22ada4",
   "metadata": {},
   "outputs": [],
   "source": []
  },
  {
   "cell_type": "code",
   "execution_count": 250,
   "id": "1b61d771-cd8c-4ecc-b344-a0b609f7a8da",
   "metadata": {},
   "outputs": [],
   "source": [
    "rmse_scorer = make_scorer(rmse, greater_is_better=False)"
   ]
  },
  {
   "cell_type": "code",
   "execution_count": 251,
   "id": "c1f424bb-de4b-4679-b7f0-efc7b108e289",
   "metadata": {},
   "outputs": [
    {
     "name": "stdout",
     "output_type": "stream",
     "text": [
      "n_iterations: 4\n",
      "n_required_iterations: 4\n",
      "n_possible_iterations: 4\n",
      "min_resources_: 1100\n",
      "max_resources_: 29702\n",
      "aggressive_elimination: False\n",
      "factor: 3\n",
      "----------\n",
      "iter: 0\n",
      "n_candidates: 27\n",
      "n_resources: 1100\n",
      "Fitting 5 folds for each of 27 candidates, totalling 135 fits\n",
      "----------\n",
      "iter: 1\n",
      "n_candidates: 9\n",
      "n_resources: 3300\n",
      "Fitting 5 folds for each of 9 candidates, totalling 45 fits\n",
      "----------\n",
      "iter: 2\n",
      "n_candidates: 3\n",
      "n_resources: 9900\n",
      "Fitting 5 folds for each of 3 candidates, totalling 15 fits\n",
      "----------\n",
      "iter: 3\n",
      "n_candidates: 1\n",
      "n_resources: 29700\n",
      "Fitting 5 folds for each of 1 candidates, totalling 5 fits\n",
      "train_rmse: 0.3016632440545038 train_r2: 0.3447595703778742\n",
      "test_rmse: 0.3422591435977468 test_r2: 0.1567641567760254\n",
      "{'learning_rate': 0.1, 'max_depth': 5, 'min_child_weight': 0, 'n_estimators': 850, 'reg_alpha': 2}\n"
     ]
    }
   ],
   "source": [
    "xgbr = xg.XGBRegressor(random_state=42)\n",
    "\n",
    "param_grid_xg = {\n",
    "    'n_estimators': [850],\n",
    "    'learning_rate': [0.1, 0.2, 0.25],\n",
    "    'reg_alpha': range(3),\n",
    "    'min_child_weight': range(3),\n",
    "    'max_depth': [5],\n",
    "    \n",
    "}\n",
    "\n",
    "search = HalvingGridSearchCV(estimator=xgbr, param_grid=param_grid_xg, cv=5, scoring=rmse_scorer, verbose=1, n_jobs=-1)\n",
    "search.fit(X_train, y_train)\n",
    "\n",
    "best_params = search.best_params_\n",
    "best_estimator = search.best_estimator_\n",
    "\n",
    "y_train_pred = best_estimator.predict(X_train)\n",
    "y_test_pred = best_estimator.predict(X_test)\n",
    "\n",
    "train_rmse = np.sqrt(mean_squared_error(y_train, y_train_pred))\n",
    "train_r2 = r2_score(y_train, y_train_pred)\n",
    "test_rmse = np.sqrt(mean_squared_error(y_test, y_test_pred))\n",
    "test_r2 = r2_score(y_test, y_test_pred)\n",
    "\n",
    "new_row = pd.DataFrame({\n",
    "    'train_rmse': [train_rmse],\n",
    "    'train_r2': [train_r2],\n",
    "    'test_rmse': [test_rmse],\n",
    "    'test_r2': [test_r2],\n",
    "    'best_params': [best_params]\n",
    "})\n",
    "\n",
    "print(f\"train_rmse: {train_rmse} train_r2: {train_r2}\")\n",
    "print(f\"test_rmse: {test_rmse} test_r2: {test_r2}\")\n",
    "print(best_params)"
   ]
  },
  {
   "cell_type": "markdown",
   "id": "ff36169b-1bd6-4fa7-8423-2ad44ffe0bf4",
   "metadata": {},
   "source": [
    "# Feature importance"
   ]
  },
  {
   "cell_type": "code",
   "execution_count": 252,
   "id": "ce5630c1-f2ea-4b02-9d64-9b8bdbe5a39f",
   "metadata": {},
   "outputs": [
    {
     "data": {
      "text/plain": [
       "<Axes: >"
      ]
     },
     "execution_count": 252,
     "metadata": {},
     "output_type": "execute_result"
    },
    {
     "data": {
      "image/png": "[encoded data removed]",
      "text/plain": [
       "<Figure size 400x1000 with 1 Axes>"
      ]
     },
     "metadata": {},
     "output_type": "display_data"
    }
   ],
   "source": [
    "(pd.Series(best_estimator.feature_importances_, index=X_train.columns)\n",
    " .sort_values()\n",
    " .plot.barh(figsize=(4, 10))\n",
    ")"
   ]
  },
  {
   "cell_type": "code",
   "execution_count": null,
   "id": "83f5de64-1880-4786-80e5-d71d50999d27",
   "metadata": {},
   "outputs": [],
   "source": []
  },
  {
   "cell_type": "code",
   "execution_count": null,
   "id": "9710c7c6-71da-48d7-8498-a6db03d17e28",
   "metadata": {},
   "outputs": [],
   "source": []
  },
  {
   "cell_type": "code",
   "execution_count": null,
   "id": "ae3180e7-42a8-4acb-8948-6cb70bad256b",
   "metadata": {},
   "outputs": [],
   "source": []
  }
 ],
 "metadata": {
  "kernelspec": {
   "display_name": "Python 3 (ipykernel)",
   "language": "python",
   "name": "python3"
  },
  "language_info": {
   "codemirror_mode": {
    "name": "ipython",
    "version": 3
   },
   "file_extension": ".py",
   "mimetype": "text/x-python",
   "name": "python",
   "nbconvert_exporter": "python",
   "pygments_lexer": "ipython3",
   "version": "3.11.4"
  }
 },
 "nbformat": 4,
 "nbformat_minor": 5
}
